{
  "nbformat": 4,
  "nbformat_minor": 0,
  "metadata": {
    "colab": {
      "provenance": []
    },
    "kernelspec": {
      "name": "python3",
      "display_name": "Python 3"
    },
    "language_info": {
      "name": "python"
    }
  },
  "cells": [
    {
      "cell_type": "code",
      "source": [
        "# Import library modules\n",
        "import sys\n",
        "import cv2 # OpenCV library\n",
        "import numpy as np\n",
        "import matplotlib.pyplot as plt\n",
        "from PIL import Image # PIL is the Python Imaging Library"
      ],
      "metadata": {
        "id": "Gm3OWYyVoTN5"
      },
      "execution_count": null,
      "outputs": []
    },
    {
      "cell_type": "code",
      "execution_count": null,
      "metadata": {
        "id": "TsmSBLkQnBWK"
      },
      "outputs": [],
      "source": [
        "def compute_homography(src, dst):\n",
        "  '''Computes the homography from src to dst.\n",
        "   Input:\n",
        "    src: source points, shape (N, 2), where N >= 4\n",
        "    dst: destination points, shape (N, 2)\n",
        "   Output:\n",
        "    H: homography from source points to destination points, shape (3, 3)\n",
        "  '''\n",
        "  assert src.shape == dst.shape, \"Input matrices must have the same shape\"\n",
        "  assert src.shape[0] >= 4, \"At least 4 corresponding points are required\"\n",
        "\n",
        "  N = src.shape[0]\n",
        "\n",
        "  A = np.zeros((2 * N, 9))\n",
        "\n",
        "  for i in range(N):\n",
        "    x, y = src[i, 0], src[i, 1]\n",
        "    u, v = dst[i, 0], dst[i, 1]\n",
        "\n",
        "    A[2 * i] = [-x, -y, -1, 0, 0, 0, x * u, y * u, u]\n",
        "    A[2 * i + 1] = [0, 0, 0, -x, -y, -1, x * v, y * v, v]\n",
        "\n",
        "  _, _, Vt = np.linalg.svd(A)\n",
        "  H = Vt[-1].reshape(3, 3)\n",
        "  H /= H[2, 2]\n",
        "\n",
        "  return H\n",
        "\n",
        "###############################################\n",
        "# Implement the apply_homography function\n",
        "\n",
        "def apply_homography(src, H):\n",
        "  '''Applies a homography H to the source points.\n",
        "   Input:\n",
        "      src: source points, shape (N, 2)\n",
        "      H: homography from source points to destination points, shape (3, 3)\n",
        "   Output:\n",
        "     dst: destination points, shape (N, 2)\n",
        "  '''\n",
        "  assert src.shape[1] == 2, \"src must have two columns (x, y)\"\n",
        "  assert H.shape == (3, 3), \"H' must be a 3x3 matrix\"\n",
        "\n",
        "  N = src.shape[0]\n",
        "\n",
        "  src_homogeneous = np.hstack((src, np.ones((N, 1))))\n",
        "  dst_homogeneous = np.dot(src_homogeneous, H.T)\n",
        "  dst = dst_homogeneous[:, :2] / dst_homogeneous[:, 2].reshape(-1, 1)\n",
        "\n",
        "  return dst"
      ]
    },
    {
      "cell_type": "markdown",
      "source": [
        "Test: so here the output (difference)  should be less than 0"
      ],
      "metadata": {
        "id": "M_KH4SS1nafn"
      }
    },
    {
      "cell_type": "code",
      "source": [
        "def test_homography():\n",
        "  src_pts = np.matrix('0, 0; 1, 0; 1, 1; 0, 1')\n",
        "  dst_pts = np.matrix('3, 2; 3.67, 2; 3.5, 2.5; 3, 3')\n",
        "  H = compute_homography(src_pts, dst_pts)\n",
        "  test_pts = src_pts\n",
        "  match_pts = apply_homography(test_pts, H)\n",
        "  match_pts_correct = dst_pts\n",
        "  print('Your 1st solution differs from our solution by: %f'\n",
        "    % np.square(match_pts - match_pts_correct).sum())\n",
        "\n",
        "  src_pts = np.matrix('0, 0; 1, 0; 1, 1; 0, 1; 2, 3')\n",
        "  dst_pts = np.matrix('3, 2; 3.67, 2; 3.5, 2.5; 3, 3; 3.5, 2.75')\n",
        "  H = compute_homography(src_pts, dst_pts)\n",
        "  test_pts = np.matrix('0,  0; 1, 0; 1, 1; 0, 1')\n",
        "  match_pts = apply_homography(test_pts, H)\n",
        "  match_pts_correct = np.matrix('3, 2; 3.67, 2; 3.5, 2.5; 3, 3')\n",
        "  print('Your 2nd solution differs from our solution by: %f'\n",
        "    % np.square(match_pts - match_pts_correct).sum())\n",
        "\n",
        "  src_pts = np.matrix('347, 313; 502, 341; 386, 571; 621, 508')\n",
        "  dst_pts = np.matrix('274, 286; 436, 305; 305, 527; 615, 506')\n",
        "  H = compute_homography(src_pts, dst_pts)\n",
        "  test_pts = np.matrix('259, 505; 350, 371; 400, 675; 636, 104')\n",
        "  match_pts = apply_homography(test_pts, H)\n",
        "  match_pts_correct = np.matrix('195.13761083, 448.12645033;'\n",
        "    '275.27269386, 336.54819916;'\n",
        "    '317.37663747, 636.78403426;'\n",
        "    '618.50438823, 28.78963905')\n",
        "  print('Your 3rd solution differs from our solution by: %f'\n",
        "    % np.square(match_pts - match_pts_correct).sum())\n",
        "\n",
        "test_homography()"
      ],
      "metadata": {
        "id": "D2QV3s6cnomg"
      },
      "execution_count": null,
      "outputs": []
    },
    {
      "cell_type": "markdown",
      "source": [
        "Image wrapping function"
      ],
      "metadata": {
        "id": "bgrqvEJDoCjN"
      }
    },
    {
      "cell_type": "code",
      "source": [
        "\n",
        "def warp_img(src_img, H, dst_img_size):\n",
        "    # Create an empty destination image\n",
        "    dst_img = np.zeros((dst_img_size[0], dst_img_size[1], 3))\n",
        "    # Calculate the inverse of the homography matrix\n",
        "    H_inv = np.linalg.inv(H)\n",
        "\n",
        "    # Iterate over all pixels in dst_img\n",
        "    for i in range(dst_img_size[0]):\n",
        "      for j in range(dst_img_size[1]):\n",
        "        point = np.array([[i], [j], [1]])\n",
        "        transformed_point = np.dot(H_inv, point)\n",
        "\n",
        "        src_x = int(np.round(transformed_point[0] / transformed_point[2]))\n",
        "        src_y = int(np.round(transformed_point[1] / transformed_point[2]))\n",
        "\n",
        "        if 0 <= src_x < src_img.shape[0] and 0 <= src_y < src_img.shape[1]:\n",
        "           dst_img[i, j, :] = src_img[src_x, src_y, :]\n",
        "\n",
        "    return dst_img"
      ],
      "metadata": {
        "id": "tu8YSd33oISO"
      },
      "execution_count": null,
      "outputs": []
    },
    {
      "cell_type": "code",
      "source": [
        "def binary_mask(img):\n",
        "  '''Create a binary mask of the image content.\n",
        "   Input:\n",
        "    img: source image, shape (m, n, 3)\n",
        "   Output:\n",
        "    mask: image of shape (m, n) and type 'int'. For pixel [i, j] of mask,\n",
        "      if pixel [i, j] in img is nonzero in any channel, assign 1 to mask[i, j].\n",
        "      Else, assign 0 to mask[i, j].\n",
        "  '''\n",
        "  mask = (img[:, :, 0] > 0) | (img[:, :, 1] > 0) | (img[:, :, 2] > 0)\n",
        "  mask = mask.astype(\"int\")\n",
        "  return mask\n",
        "\n",
        "def test_warp():\n",
        "  src_img = load_image('mandrill.png')\n",
        "  canvas_img = load_image('Rubiks_cube.jpg')\n",
        "\n",
        "  # The following are corners of the mandrill image in (ROW, COLUMN) order\n",
        "  src_pts = np.matrix('0, 0; 511, 0; 511, 511; 0, 511')\n",
        "  # The following are corners of the blue face of the Rubik's cube\n",
        "  canvas_pts = np.matrix('238, 218; 560, 225; 463, 490; 178, 530')\n",
        "\n",
        "  # The following was used during debugging\n",
        "  # It draws a circle at a location specified by (COLUMN, ROW)\n",
        "  # cv2.circle(canvas_img, (530, 178), 4, (255, 0, 0), thickness=10)\n",
        "\n",
        "  H = compute_homography(src_pts, canvas_pts)\n",
        "  dst_img = warp_img(src_img, H, [canvas_img.shape[0], canvas_img.shape[1]])\n",
        "  dst_mask = 1 - binary_mask(dst_img)\n",
        "  dst_mask = np.stack((dst_mask,) * 3, -1)\n",
        "  out_img = np.multiply(canvas_img, dst_mask) + dst_img\n",
        "\n",
        "  dsize = (600, 600) # width and height of canvas_im\n",
        "  src_smaller = cv2.resize(src_img, dsize, interpolation=cv2.INTER_AREA)\n",
        "\n",
        "  warped_img = np.concatenate((src_smaller, canvas_img, out_img), axis=1)\n",
        "  show_image(np.clip(warped_img, 0, 1))\n",
        "\n",
        "test_warp()"
      ],
      "metadata": {
        "id": "OgaJFubhoOi7"
      },
      "execution_count": null,
      "outputs": []
    }
  ]
}